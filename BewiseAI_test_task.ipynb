{
  "nbformat": 4,
  "nbformat_minor": 0,
  "metadata": {
    "colab": {
      "provenance": [],
      "collapsed_sections": []
    },
    "kernelspec": {
      "name": "python3",
      "display_name": "Python 3"
    },
    "language_info": {
      "name": "python"
    }
  },
  "cells": [
    {
      "cell_type": "markdown",
      "source": [
        "#Packages and imports"
      ],
      "metadata": {
        "id": "2ayP4aKieBUy"
      }
    },
    {
      "cell_type": "code",
      "source": [
        "!pip install names-dataset\n",
        "!pip install natasha"
      ],
      "metadata": {
        "colab": {
          "base_uri": "https://localhost:8080/"
        },
        "id": "OUyEkglPXOmT",
        "outputId": "59b9de74-73ff-42de-b1af-ca997479ff56"
      },
      "execution_count": 71,
      "outputs": [
        {
          "output_type": "stream",
          "name": "stdout",
          "text": [
            "Looking in indexes: https://pypi.org/simple, https://us-python.pkg.dev/colab-wheels/public/simple/\n",
            "Requirement already satisfied: names-dataset in /usr/local/lib/python3.7/dist-packages (3.1.0)\n",
            "Requirement already satisfied: pycountry in /usr/local/lib/python3.7/dist-packages (from names-dataset) (22.3.5)\n",
            "Requirement already satisfied: setuptools in /usr/local/lib/python3.7/dist-packages (from pycountry->names-dataset) (57.4.0)\n",
            "Looking in indexes: https://pypi.org/simple, https://us-python.pkg.dev/colab-wheels/public/simple/\n",
            "Requirement already satisfied: natasha in /usr/local/lib/python3.7/dist-packages (1.4.0)\n",
            "Requirement already satisfied: razdel>=0.5.0 in /usr/local/lib/python3.7/dist-packages (from natasha) (0.5.0)\n",
            "Requirement already satisfied: navec>=0.9.0 in /usr/local/lib/python3.7/dist-packages (from natasha) (0.10.0)\n",
            "Requirement already satisfied: slovnet>=0.3.0 in /usr/local/lib/python3.7/dist-packages (from natasha) (0.5.0)\n",
            "Requirement already satisfied: yargy>=0.14.0 in /usr/local/lib/python3.7/dist-packages (from natasha) (0.15.0)\n",
            "Requirement already satisfied: pymorphy2 in /usr/local/lib/python3.7/dist-packages (from natasha) (0.9.1)\n",
            "Requirement already satisfied: ipymarkup>=0.8.0 in /usr/local/lib/python3.7/dist-packages (from natasha) (0.9.0)\n",
            "Requirement already satisfied: intervaltree>=3 in /usr/local/lib/python3.7/dist-packages (from ipymarkup>=0.8.0->natasha) (3.1.0)\n",
            "Requirement already satisfied: sortedcontainers<3.0,>=2.0 in /usr/local/lib/python3.7/dist-packages (from intervaltree>=3->ipymarkup>=0.8.0->natasha) (2.4.0)\n",
            "Requirement already satisfied: numpy in /usr/local/lib/python3.7/dist-packages (from navec>=0.9.0->natasha) (1.21.6)\n",
            "Requirement already satisfied: docopt>=0.6 in /usr/local/lib/python3.7/dist-packages (from pymorphy2->natasha) (0.6.2)\n",
            "Requirement already satisfied: pymorphy2-dicts-ru<3.0,>=2.4 in /usr/local/lib/python3.7/dist-packages (from pymorphy2->natasha) (2.4.417127.4579844)\n",
            "Requirement already satisfied: dawg-python>=0.7.1 in /usr/local/lib/python3.7/dist-packages (from pymorphy2->natasha) (0.7.2)\n"
          ]
        }
      ]
    },
    {
      "cell_type": "code",
      "source": [
        "import pandas as pd\n",
        "import numpy as np\n",
        "from names_dataset import NameDataset, NameWrapper\n",
        "\n",
        "from natasha import (\n",
        "    Segmenter,\n",
        "    MorphVocab,\n",
        "    NewsEmbedding,\n",
        "    NewsMorphTagger,\n",
        "    NewsSyntaxParser,\n",
        "    Doc\n",
        ")\n",
        "\n",
        "nd = NameDataset()\n",
        "segmenter = Segmenter()\n",
        "morph_vocab = MorphVocab()\n",
        "emb = NewsEmbedding()\n",
        "morph_tagger = NewsMorphTagger(emb)\n",
        "syntax_parser = NewsSyntaxParser(emb)"
      ],
      "metadata": {
        "id": "H2LMg4rFbafY"
      },
      "execution_count": 72,
      "outputs": []
    },
    {
      "cell_type": "markdown",
      "source": [
        "#Dataset preparation"
      ],
      "metadata": {
        "id": "sxhML9nUeIuu"
      }
    },
    {
      "cell_type": "code",
      "source": [
        "test_data = pd.read_csv('test_data.csv')"
      ],
      "metadata": {
        "id": "SUEj7KnNpyxq"
      },
      "execution_count": 73,
      "outputs": []
    },
    {
      "cell_type": "code",
      "source": [
        "data_manager = test_data[test_data['role']=='client'] \n",
        "#there are confused roles 'client' and 'manager'"
      ],
      "metadata": {
        "id": "JJ9G-Nxdqj-G"
      },
      "execution_count": 74,
      "outputs": []
    },
    {
      "cell_type": "code",
      "source": [
        "dialogs_indexes = data_manager['dlg_id'].unique()\n",
        "dialogs_indexes"
      ],
      "metadata": {
        "id": "4PlQarYLsydn",
        "colab": {
          "base_uri": "https://localhost:8080/"
        },
        "outputId": "0bd80c99-6267-46f0-9650-ecb275032dba"
      },
      "execution_count": 75,
      "outputs": [
        {
          "output_type": "execute_result",
          "data": {
            "text/plain": [
              "array([0, 1, 2, 3, 4, 5])"
            ]
          },
          "metadata": {},
          "execution_count": 75
        }
      ]
    },
    {
      "cell_type": "code",
      "source": [
        "dialogs = []\n",
        "\n",
        "for index in dialogs_indexes:\n",
        "  dialogs.append(data_manager[data_manager['dlg_id']==index]['text'])"
      ],
      "metadata": {
        "id": "SCmUrtUTuHzc"
      },
      "execution_count": 76,
      "outputs": []
    },
    {
      "cell_type": "markdown",
      "source": [
        "#Dialog checkpoint(for managers):\n",
        "*   greeting \n",
        "*   representation \n",
        "*   manager name \n",
        "*   company name\n",
        "*   farewell \n",
        "*   greeting & farewell\n",
        "\n"
      ],
      "metadata": {
        "id": "PAUwXTHtwg3u"
      }
    },
    {
      "cell_type": "code",
      "source": [
        "greetings = ['здравствуйте','добрый']\n",
        "farewells = ['до свидания','всего доброго','хорошего']\n",
        "represent = ['зовут'] \n",
        "company_flag = 'компан'"
      ],
      "metadata": {
        "id": "v9Rtm-JCfC0z"
      },
      "execution_count": 77,
      "outputs": []
    },
    {
      "cell_type": "markdown",
      "source": [
        "#Greeting and farewell"
      ],
      "metadata": {
        "id": "_ijX3Ai1fM-l"
      }
    },
    {
      "cell_type": "code",
      "source": [
        "def greeting_or_farewell(speech,farewells=farewells,greetings=greetings):\n",
        "  farewell_replics, greeting_replics = [], []\n",
        "  for farewell,greeting in zip(farewells,greetings):\n",
        "    for replic in speech:\n",
        "      if farewell in replic.lower():\n",
        "        farewell_replics.append(replic)\n",
        "      if greeting in replic.lower():\n",
        "        greeting_replics.append(replic)      \n",
        "  farewell_replics = np.unique(farewell_replics)\n",
        "  greeting_replics = np.unique(greeting_replics)\n",
        "\n",
        "  return greeting_replics, farewell_replics"
      ],
      "metadata": {
        "id": "fJ5UdY7qfQR8"
      },
      "execution_count": 78,
      "outputs": []
    },
    {
      "cell_type": "markdown",
      "source": [
        "#Representation and name"
      ],
      "metadata": {
        "id": "EujRABPtfTu7"
      }
    },
    {
      "cell_type": "code",
      "source": [
        "def Represent_and_name(dialog,repr_flag=represent,country='Russian Federation'):\n",
        "    represent = ''\n",
        "    name = ''\n",
        "    for repr_word in repr_flag:\n",
        "      for replic in dialog:\n",
        "        if repr_word in replic:\n",
        "          represent = replic\n",
        "          tokens = represent.split()\n",
        "          for i in range(len(tokens)):\n",
        "            if tokens[i] == repr_word:\n",
        "              left_cand = NameWrapper(nd.search(tokens[i-1])).country == country\n",
        "              right_cand = NameWrapper(nd.search(tokens[i+1])).country == country\n",
        "              if left_cand or right_cand:\n",
        "                if right_cand:\n",
        "                  name = tokens[i+1]\n",
        "                elif left_cand:\n",
        "                  name = tokens[i-1]\n",
        "    return represent, name"
      ],
      "metadata": {
        "id": "A9ri4Y9VfYRG"
      },
      "execution_count": 79,
      "outputs": []
    },
    {
      "cell_type": "markdown",
      "source": [
        "#Company name"
      ],
      "metadata": {
        "id": "dkF-Ss5TfgN0"
      }
    },
    {
      "cell_type": "code",
      "source": [
        "def name_from_line(line,flag=company_flag):\n",
        "  name = ''\n",
        "  tokens = line.split()\n",
        "  for i in range(len(tokens)):\n",
        "    if flag in tokens[i]:\n",
        "      line = 'компания ' +  ' '.join(tokens[i+1:])\n",
        "      line = Doc(line)\n",
        "      line.segment(segmenter)\n",
        "      line.parse_syntax(syntax_parser)\n",
        "      line.tag_morph(morph_tagger)\n",
        "      for token in line.tokens[1:4]:\n",
        "        if token.pos in ['NOUN', 'ADJ','ADV', 'PNOUN']:\n",
        "          name += token.text + ' '\n",
        "      return name\n",
        "\n",
        "\n",
        "def company_name(dialog,flag=company_flag):\n",
        "  name = ''\n",
        "  for line in dialog:\n",
        "    if not(name):\n",
        "      if flag in line:\n",
        "        name = name_from_line(line,flag)\n",
        "  return name"
      ],
      "metadata": {
        "id": "d1D5261ufc1f"
      },
      "execution_count": 80,
      "outputs": []
    },
    {
      "cell_type": "markdown",
      "source": [
        "#Parsing"
      ],
      "metadata": {
        "id": "Z8uA7ZrdfqcU"
      }
    },
    {
      "cell_type": "code",
      "source": [
        "def parse_dialog(dialog):\n",
        "  greeting, farewell = greeting_or_farewell(dialog)\n",
        "  repr_line, name = Represent_and_name(dialog)\n",
        "  company = company_name(dialog)\n",
        "  print('GREETING')\n",
        "  for line in greeting:\n",
        "    print(line)\n",
        "  print('-'*30)\n",
        "  print('REPRESENTATION')\n",
        "  print(repr_line)\n",
        "  print('-'*30)\n",
        "  print('MANAGER NAME')\n",
        "  print(name)\n",
        "  print('-'*30)\n",
        "  print('COMPANY NAME')\n",
        "  print(company)\n",
        "  print('-'*30)\n",
        "  print('FAREWELL')\n",
        "  for line in farewell:\n",
        "    print(line)\n",
        "  print('-'*30)\n",
        "  if len(greeting) * len(farewell):\n",
        "    print('GREETING & FAREWELL - YES')\n",
        "  else:\n",
        "    print('GREETING & FAREWELL - NO')"
      ],
      "metadata": {
        "id": "Sn6oozQXfmuX"
      },
      "execution_count": 81,
      "outputs": []
    },
    {
      "cell_type": "code",
      "source": [
        "for index,dialog in enumerate(dialogs):\n",
        "  print(f'DIALOG {index} :') \n",
        "  parse_dialog(dialog)\n",
        "  print('\\n\\n')"
      ],
      "metadata": {
        "colab": {
          "base_uri": "https://localhost:8080/"
        },
        "id": "5q_qcsmOg1FK",
        "outputId": "d107647c-09eb-430d-9068-c96d95026e87"
      },
      "execution_count": 82,
      "outputs": [
        {
          "output_type": "stream",
          "name": "stdout",
          "text": [
            "DIALOG 0 :\n",
            "GREETING\n",
            "Алло здравствуйте\n",
            "------------------------------\n",
            "REPRESENTATION\n",
            "Меня зовут ангелина компания диджитал бизнес звоним вам по поводу продления лицензии а мы с серым у вас скоро срок заканчивается\n",
            "------------------------------\n",
            "MANAGER NAME\n",
            "ангелина\n",
            "------------------------------\n",
            "COMPANY NAME\n",
            "диджитал бизнес \n",
            "------------------------------\n",
            "FAREWELL\n",
            "Всего хорошего до свидания\n",
            "------------------------------\n",
            "GREETING & FAREWELL - YES\n",
            "\n",
            "\n",
            "\n",
            "DIALOG 1 :\n",
            "GREETING\n",
            "Алло здравствуйте\n",
            "------------------------------\n",
            "REPRESENTATION\n",
            "Меня зовут ангелина компания диджитал бизнес звоню вам по поводу продления а мы сели обратила внимание что у вас срок заканчивается\n",
            "------------------------------\n",
            "MANAGER NAME\n",
            "ангелина\n",
            "------------------------------\n",
            "COMPANY NAME\n",
            "диджитал бизнес \n",
            "------------------------------\n",
            "FAREWELL\n",
            "До свидания\n",
            "------------------------------\n",
            "GREETING & FAREWELL - YES\n",
            "\n",
            "\n",
            "\n",
            "DIALOG 2 :\n",
            "GREETING\n",
            "Алло здравствуйте\n",
            "------------------------------\n",
            "REPRESENTATION\n",
            "Меня зовут ангелина компания диджитал бизнес звоню вам по поводу продления лицензии а мастера мы с вами сотрудничали по видео там\n",
            "------------------------------\n",
            "MANAGER NAME\n",
            "ангелина\n",
            "------------------------------\n",
            "COMPANY NAME\n",
            "диджитал бизнес \n",
            "------------------------------\n",
            "FAREWELL\n",
            "------------------------------\n",
            "GREETING & FAREWELL - NO\n",
            "\n",
            "\n",
            "\n",
            "DIALOG 3 :\n",
            "GREETING\n",
            "Алло дмитрий добрый день\n",
            "Добрый меня максим зовут компания китобизнес удобно говорить\n",
            "------------------------------\n",
            "REPRESENTATION\n",
            "Добрый меня максим зовут компания китобизнес удобно говорить\n",
            "------------------------------\n",
            "MANAGER NAME\n",
            "максим\n",
            "------------------------------\n",
            "COMPANY NAME\n",
            "удобно \n",
            "------------------------------\n",
            "FAREWELL\n",
            "Угу все хорошо да понедельника тогда всего доброго\n",
            "------------------------------\n",
            "GREETING & FAREWELL - YES\n",
            "\n",
            "\n",
            "\n",
            "DIALOG 4 :\n",
            "GREETING\n",
            "------------------------------\n",
            "REPRESENTATION\n",
            "\n",
            "------------------------------\n",
            "MANAGER NAME\n",
            "\n",
            "------------------------------\n",
            "COMPANY NAME\n",
            "\n",
            "------------------------------\n",
            "FAREWELL\n",
            "Во вторник все ну с вами да тогда до вторника до свидания\n",
            "------------------------------\n",
            "GREETING & FAREWELL - NO\n",
            "\n",
            "\n",
            "\n",
            "DIALOG 5 :\n",
            "GREETING\n",
            "------------------------------\n",
            "REPRESENTATION\n",
            "\n",
            "------------------------------\n",
            "MANAGER NAME\n",
            "\n",
            "------------------------------\n",
            "COMPANY NAME\n",
            "\n",
            "------------------------------\n",
            "FAREWELL\n",
            "Ну до свидания хорошего вечера\n",
            "------------------------------\n",
            "GREETING & FAREWELL - NO\n",
            "\n",
            "\n",
            "\n"
          ]
        }
      ]
    }
  ]
}